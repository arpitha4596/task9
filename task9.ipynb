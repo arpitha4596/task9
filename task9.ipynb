{
 "cells": [
  {
   "cell_type": "code",
   "execution_count": 1,
   "metadata": {},
   "outputs": [
    {
     "name": "stdout",
     "output_type": "stream",
     "text": [
      "enter first number:10\n",
      "enter second number:2\n",
      "enter for opration:1=addition,2=subtraction,3=multiplication,4=division:1\n",
      "sum of 10 and 2 is 12\n",
      "num1<num2\n"
     ]
    }
   ],
   "source": [
    "num1 = int(input(\"enter first number:\"))\n",
    "num2 = int(input(\"enter second number:\"))\n",
    "input = int(input(\"enter for opration:1=addition,2=subtraction,3=multiplication,4=division:\"))\n",
    "if(input==1):\n",
    "    print(\"sum of {} and {} is {}\".format(num1,num2,num1+num2) )\n",
    "    if(input==2):\n",
    "        print(\"difference of {} and {} is {}\".format(num1,num2,num1-num2))\n",
    "    elif(input==3):\n",
    "        print(\"product of {} and {} is {}\".format(num1,num2,num1*num2))\n",
    "        if(input==4):\n",
    "            print(\"remainder of {} and {} is {}\".format(num1,num2,num1/num2))\n",
    "        else:\n",
    "            print(\"enter the number\")\n",
    "    else:\n",
    "        print(\"num1<num2\")\n",
    "else:\n",
    "    print(\"num1>num2\")"
   ]
  },
  {
   "cell_type": "code",
   "execution_count": 1,
   "metadata": {},
   "outputs": [
    {
     "name": "stdout",
     "output_type": "stream",
     "text": [
      "enter first number:10\n",
      "enter second number:2\n",
      "enter for opration:1=addition,2=subtraction,3=multiplication,4=division:2\n",
      "num1>num2\n",
      "difference of 10 and 2 is 8\n"
     ]
    }
   ],
   "source": [
    "num1 = int(input(\"enter first number:\"))\n",
    "num2 = int(input(\"enter second number:\"))\n",
    "input = int(input(\"enter for opration:1=addition,2=subtraction,3=multiplication,4=division:\"))\n",
    "if(input==1):\n",
    "    print(\"sum of {} and {} is {}\".format(num1,num2,num1+num2) )\n",
    "else:\n",
    "    print(\"num1>num2\")\n",
    "    if(input==2):\n",
    "        print(\"difference of {} and {} is {}\".format(num1,num2,num1-num2))\n",
    "    elif(input==3):\n",
    "        print(\"product of {} and {} is {}\".format(num1,num2,num1*num2))\n",
    "    else:\n",
    "        print(\"num1<num2\")\n",
    "    \n",
    "        if(input==4):\n",
    "            print(\"remainder of {} and {} is {}\".format(num1,num2,num1/num2))\n",
    "        else:\n",
    "            print(\"enter the number\")\n",
    "    "
   ]
  },
  {
   "cell_type": "code",
   "execution_count": 1,
   "metadata": {},
   "outputs": [
    {
     "name": "stdout",
     "output_type": "stream",
     "text": [
      "enter first number:10\n",
      "enter second number:2\n",
      "enter for opration:1=addition,2=subtraction,3=multiplication,4=division:3\n",
      "num1>num2\n",
      "product of 10 and 2 is 20\n"
     ]
    }
   ],
   "source": [
    "num1 = int(input(\"enter first number:\"))\n",
    "num2 = int(input(\"enter second number:\"))\n",
    "input = int(input(\"enter for opration:1=addition,2=subtraction,3=multiplication,4=division:\"))\n",
    "if(input==1):\n",
    "    print(\"sum of {} and {} is {}\".format(num1,num2,num1+num2) )\n",
    "else:\n",
    "    print(\"num1>num2\")\n",
    "    if(input==2):\n",
    "        print(\"difference of {} and {} is {}\".format(num1,num2,num1-num2))\n",
    "    elif(input==3):\n",
    "        print(\"product of {} and {} is {}\".format(num1,num2,num1*num2))\n",
    "    else:\n",
    "        print(\"num1<num2\")\n",
    "    \n",
    "        if(input==4):\n",
    "            print(\"remainder of {} and {} is {}\".format(num1,num2,num1/num2))\n",
    "        else:\n",
    "            print(\"enter the number\")"
   ]
  },
  {
   "cell_type": "code",
   "execution_count": 1,
   "metadata": {},
   "outputs": [
    {
     "name": "stdout",
     "output_type": "stream",
     "text": [
      "enter first number:10\n",
      "enter second number:2\n",
      "enter for opration:1=addition,2=subtraction,3=multiplication,4=division:4\n",
      "num1>num2\n",
      "num1<num2\n",
      "remainder of 10 and 2 is 5.0\n"
     ]
    }
   ],
   "source": [
    "num1 = int(input(\"enter first number:\"))\n",
    "num2 = int(input(\"enter second number:\"))\n",
    "input = int(input(\"enter for opration:1=addition,2=subtraction,3=multiplication,4=division:\"))\n",
    "if(input==1):\n",
    "    print(\"sum of {} and {} is {}\".format(num1,num2,num1+num2) )\n",
    "else:\n",
    "    print(\"num1>num2\")\n",
    "    if(input==2):\n",
    "        print(\"difference of {} and {} is {}\".format(num1,num2,num1-num2))\n",
    "    elif(input==3):\n",
    "        print(\"product of {} and {} is {}\".format(num1,num2,num1*num2))\n",
    "    else:\n",
    "        print(\"num1<num2\")\n",
    "    \n",
    "        if(input==4):\n",
    "            print(\"remainder of {} and {} is {}\".format(num1,num2,num1/num2))\n",
    "        else:\n",
    "            print(\"enter the number\")"
   ]
  },
  {
   "cell_type": "code",
   "execution_count": null,
   "metadata": {},
   "outputs": [],
   "source": []
  },
  {
   "cell_type": "code",
   "execution_count": null,
   "metadata": {},
   "outputs": [],
   "source": []
  },
  {
   "cell_type": "code",
   "execution_count": null,
   "metadata": {},
   "outputs": [],
   "source": []
  },
  {
   "cell_type": "code",
   "execution_count": null,
   "metadata": {},
   "outputs": [],
   "source": []
  },
  {
   "cell_type": "code",
   "execution_count": null,
   "metadata": {},
   "outputs": [],
   "source": []
  },
  {
   "cell_type": "code",
   "execution_count": null,
   "metadata": {},
   "outputs": [],
   "source": []
  },
  {
   "cell_type": "code",
   "execution_count": null,
   "metadata": {},
   "outputs": [],
   "source": []
  },
  {
   "cell_type": "code",
   "execution_count": null,
   "metadata": {},
   "outputs": [],
   "source": []
  },
  {
   "cell_type": "code",
   "execution_count": null,
   "metadata": {},
   "outputs": [],
   "source": []
  },
  {
   "cell_type": "code",
   "execution_count": null,
   "metadata": {},
   "outputs": [],
   "source": []
  },
  {
   "cell_type": "code",
   "execution_count": null,
   "metadata": {},
   "outputs": [],
   "source": []
  },
  {
   "cell_type": "code",
   "execution_count": null,
   "metadata": {},
   "outputs": [],
   "source": []
  },
  {
   "cell_type": "code",
   "execution_count": null,
   "metadata": {},
   "outputs": [],
   "source": []
  },
  {
   "cell_type": "code",
   "execution_count": null,
   "metadata": {},
   "outputs": [],
   "source": []
  },
  {
   "cell_type": "code",
   "execution_count": null,
   "metadata": {},
   "outputs": [],
   "source": []
  },
  {
   "cell_type": "code",
   "execution_count": null,
   "metadata": {},
   "outputs": [],
   "source": []
  },
  {
   "cell_type": "code",
   "execution_count": null,
   "metadata": {},
   "outputs": [],
   "source": []
  },
  {
   "cell_type": "code",
   "execution_count": null,
   "metadata": {},
   "outputs": [],
   "source": []
  },
  {
   "cell_type": "code",
   "execution_count": null,
   "metadata": {},
   "outputs": [],
   "source": []
  },
  {
   "cell_type": "code",
   "execution_count": null,
   "metadata": {},
   "outputs": [],
   "source": []
  },
  {
   "cell_type": "code",
   "execution_count": null,
   "metadata": {},
   "outputs": [],
   "source": []
  }
 ],
 "metadata": {
  "kernelspec": {
   "display_name": "Python 3",
   "language": "python",
   "name": "python3"
  },
  "language_info": {
   "codemirror_mode": {
    "name": "ipython",
    "version": 3
   },
   "file_extension": ".py",
   "mimetype": "text/x-python",
   "name": "python",
   "nbconvert_exporter": "python",
   "pygments_lexer": "ipython3",
   "version": "3.8.3"
  }
 },
 "nbformat": 4,
 "nbformat_minor": 4
}
